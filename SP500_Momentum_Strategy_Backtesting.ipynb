{
  "nbformat": 4,
  "nbformat_minor": 0,
  "metadata": {
    "colab": {
      "provenance": [],
      "authorship_tag": "ABX9TyPUMVIyssQ/2Yk4aNIDozQy",
      "include_colab_link": true
    },
    "kernelspec": {
      "name": "python3",
      "display_name": "Python 3"
    },
    "language_info": {
      "name": "python"
    }
  },
  "cells": [
    {
      "cell_type": "markdown",
      "metadata": {
        "id": "view-in-github",
        "colab_type": "text"
      },
      "source": [
        "<a href=\"https://colab.research.google.com/github/leomercanti/SP500_Momentum_Strategy_Backtesting/blob/main/SP500_Momentum_Strategy_Backtesting.ipynb\" target=\"_parent\"><img src=\"https://colab.research.google.com/assets/colab-badge.svg\" alt=\"Open In Colab\"/></a>"
      ]
    },
    {
      "cell_type": "markdown",
      "source": [
        "# **S&P500 Momentum Strategy and Backtesting Project**"
      ],
      "metadata": {
        "id": "O7cTSXozGhzI"
      }
    },
    {
      "cell_type": "code",
      "execution_count": null,
      "metadata": {
        "id": "E3IveHUhGDyh"
      },
      "outputs": [],
      "source": [
        "import pandas as pd\n",
        "import numpy as np\n",
        "import yfinance as yf\n",
        "import matplotlib.pyplot as plt"
      ]
    },
    {
      "cell_type": "markdown",
      "source": [
        "### **Step 1: Data Acquisition**\n",
        "\n",
        "Use the yfinance library to fetch historical price data for the S&P 500 index from January 2010 to September 2024."
      ],
      "metadata": {
        "id": "IFQhQ_54GtJ7"
      }
    },
    {
      "cell_type": "code",
      "source": [
        "start_date = '2010-01-01'\n",
        "end_date = '2024-09-30'\n",
        "symbol = '^GSPC'  # S&P 500 Index\n",
        "\n",
        "data = yf.download(symbol, start=start_date, end=end_date)\n",
        "data['Date'] = data.index"
      ],
      "metadata": {
        "id": "xmWMeSEgGNY6"
      },
      "execution_count": null,
      "outputs": []
    },
    {
      "cell_type": "code",
      "source": [
        "# Quick data inspection:\n",
        "data.tail()"
      ],
      "metadata": {
        "id": "q-_bnhKcHvZl"
      },
      "execution_count": null,
      "outputs": []
    },
    {
      "cell_type": "markdown",
      "source": [
        "### **Step 2: Moving Averages Calculation**\n",
        "\n",
        "Calculate short-term and long-term moving averages (e.g., 50-day and 200-day moving averages)."
      ],
      "metadata": {
        "id": "5wcjl-uOG26J"
      }
    },
    {
      "cell_type": "code",
      "source": [
        "short_window = 50\n",
        "long_window = 200\n",
        "\n",
        "data['Short_MA'] = data['Close'].rolling(window=short_window).mean()\n",
        "data['Long_MA'] = data['Close'].rolling(window=long_window).mean()"
      ],
      "metadata": {
        "id": "2Y9kkQ43GPdr"
      },
      "execution_count": null,
      "outputs": []
    },
    {
      "cell_type": "markdown",
      "source": [
        "### **Step 3: Generate Signals**\n",
        "\n",
        "Create buy and sell signals based on the moving averages. For example, buy when the short-term moving average crosses above the long-term moving average (Golden Cross) and sell when it crosses below (Death Cross)."
      ],
      "metadata": {
        "id": "p2kWTh77G-oR"
      }
    },
    {
      "cell_type": "code",
      "source": [
        "# Step 3: Generate Signals\n",
        "data['Signal'] = 0\n",
        "data.loc[:, 'Signal'] = np.where(data['Short_MA'] > data['Long_MA'], 1, 0)\n",
        "data['Position'] = data['Signal'].diff()"
      ],
      "metadata": {
        "id": "nZ173-WvGRpB"
      },
      "execution_count": null,
      "outputs": []
    },
    {
      "cell_type": "markdown",
      "source": [
        "### **Step 4: Portfolio Simulation**\n",
        "\n",
        "Simulate a portfolio starting with $10,000.\n",
        "Track the value of the portfolio over time based on the signals generated."
      ],
      "metadata": {
        "id": "lQkK7Zp6HExM"
      }
    },
    {
      "cell_type": "code",
      "source": [
        "initial_capital = 10000\n",
        "data['Portfolio_Value'] = initial_capital + (data['Position'].cumsum() * data['Close'].diff()).fillna(0).cumsum()"
      ],
      "metadata": {
        "id": "1EWHrntGGT0m"
      },
      "execution_count": null,
      "outputs": []
    },
    {
      "cell_type": "markdown",
      "source": [
        "### **Step 5: Backtesting**\n",
        "\n",
        "Evaluate the performance of the strategy, including metrics like total return, annualized return, volatility, maximum drawdown, and Sharpe ratio."
      ],
      "metadata": {
        "id": "ig1OdwN-HL9h"
      }
    },
    {
      "cell_type": "code",
      "source": [
        "total_return = data['Portfolio_Value'].iloc[-1] - initial_capital\n",
        "annualized_return = (total_return / initial_capital) / ((data.index[-1] - data.index[0]).days / 365)\n",
        "volatility = data['Portfolio_Value'].pct_change().std() * np.sqrt(252)  # Annualized volatility\n",
        "max_drawdown = (data['Portfolio_Value'] / data['Portfolio_Value'].cummax()).min() - 1"
      ],
      "metadata": {
        "id": "ovS66_3qGV0c"
      },
      "execution_count": null,
      "outputs": []
    },
    {
      "cell_type": "markdown",
      "source": [
        "### **Step 6: Visualization**\n",
        "\n",
        "Plot the price of the index, moving averages, and buy/sell signals on a chart."
      ],
      "metadata": {
        "id": "uWpvwiT6HTGi"
      }
    },
    {
      "cell_type": "code",
      "source": [
        "# Visualization\n",
        "plt.figure(figsize=(14, 7))\n",
        "plt.plot(data['Date'], data['Close'], label='S&P 500 Price', alpha=0.5)\n",
        "plt.plot(data['Date'], data['Short_MA'], label='50-Day MA', alpha=0.75)\n",
        "plt.plot(data['Date'], data['Long_MA'], label='200-Day MA', alpha=0.75)\n",
        "\n",
        "# Buy signals\n",
        "plt.plot(data[data['Position'] == 1]['Date'],\n",
        "         data['Short_MA'][data['Position'] == 1],\n",
        "         '^', markersize=10, color='g', lw=0, label='Buy Signal')\n",
        "\n",
        "# Sell signals\n",
        "plt.plot(data[data['Position'] == -1]['Date'],\n",
        "         data['Short_MA'][data['Position'] == -1],\n",
        "         'v', markersize=10, color='r', lw=0, label='Sell Signal')\n",
        "\n",
        "plt.title('S&P 500 Momentum Strategy with Moving Averages')\n",
        "plt.xlabel('Date')\n",
        "plt.ylabel('Price')\n",
        "plt.legend()\n",
        "plt.grid()\n",
        "plt.show()"
      ],
      "metadata": {
        "id": "ZQZ0KyF4GX7W"
      },
      "execution_count": null,
      "outputs": []
    },
    {
      "cell_type": "markdown",
      "source": [
        "### **Step 7: Summary Report**\n",
        "\n",
        "Summarize the findings, including the performance metrics and any insights gained from the backtest."
      ],
      "metadata": {
        "id": "-rrOD4qCHabR"
      }
    },
    {
      "cell_type": "code",
      "source": [
        "# Step 7: Summary Report\n",
        "print(f'Total Return: ${total_return:.2f}')\n",
        "print(f'Annualized Return: {annualized_return:.2%}')\n",
        "print(f'Volatility: {volatility:.2%}')\n",
        "print(f'Maximum Drawdown: {max_drawdown:.2%}')"
      ],
      "metadata": {
        "id": "jdLLCAi1GeJA"
      },
      "execution_count": null,
      "outputs": []
    }
  ]
}